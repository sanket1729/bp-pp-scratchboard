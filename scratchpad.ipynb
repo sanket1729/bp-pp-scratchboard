{
 "cells": [
  {
   "cell_type": "markdown",
   "metadata": {},
   "source": [
    "Declare some basic symbols:\n",
    "A_v denotes a variable A that is a vector\n",
    "Capital letter denote Group points\n",
    "Small letters denote group scalars\n",
    "\n",
    "polynomial terms are also used in `X`, `T`, but they would be clear from context"
   ]
  },
  {
   "cell_type": "code",
   "execution_count": 2,
   "metadata": {},
   "outputs": [
    {
     "name": "stdout",
     "output_type": "stream",
     "text": [
      "gamma_v*H_v + v*G\n"
     ]
    }
   ],
   "source": [
    "from sympy import *\n",
    "v, G = MatrixSymbol('v', 1, 1), MatrixSymbol('G', 1, 1)\n",
    "h_n = 8\n",
    "g_n = 4\n",
    "gamma_v = MatrixSymbol('gamma_v', 1, h_n)\n",
    "G_v = MatrixSymbol('G_v', g_n, 1)\n",
    "H_v = MatrixSymbol('H_v', h_n, 1)\n",
    "# T value commitment\n",
    "# gamma_v scalar is multiplies to H_0, the first term of H_v. Others are 0\n",
    "V = v*G + gamma_v*H_v\n",
    "print(V)"
   ]
  },
  {
   "cell_type": "markdown",
   "metadata": {},
   "source": [
    "Define\n",
    "    - d_v(vector of digits of v),\n",
    "    - m_v(vector of multiplicities of digits of v)\n",
    "    - r_v(vector of reciprocals of v)\n",
    "    - s(vector of blinding factors)\n",
    "\n",
    "We will first attempt at dealing with the last verification equation in terms of T\n",
    "\n",
    "$r_i = \\frac{1}{(e + d_i)} => r_i \\times d_i = 1 - e \\times r_i$\n",
    "\n",
    "$\\Sigma(\\frac{1}{(e + i)})$"
   ]
  },
  {
   "cell_type": "code",
   "execution_count": 3,
   "metadata": {},
   "outputs": [
    {
     "name": "stdout",
     "output_type": "stream",
     "text": [
      "Coeffs of G_v: T**3*r_v + T**2*d_v + T*m_v + Matrix([[T**2*e + T**4*Y/(Q*e) + T**3/Q - T**2*Y/Q, T**4*Y/(Q**2*e + Q**2) + T**2*e + T**3*bits/Q**2 - T**2*Y/Q**2, T**4*Y/(Q**3*e + 2*Q**3) + T**2*e + T**3*bits**2/Q**3 - T**2*Y/Q**3, T**4*Y/(Q**4*e + 3*Q**4) + T**2*e + T**3*bits**3/Q**4 - T**2*Y/Q**4]]) + s_v\n",
      "Coeffs of H_v: T**3*lr_v + T**2*ld_v + T*lm_v + (2*T**5)*gamma_v + ls_v\n",
      "Coeffs of G: T**8*Y**2*(1/(Q*e**2) + 1/(Q**2*(e + 1)**2) + 1/(Q**3*(e + 2)**2) + 1/(Q**4*(e + 3)**2)) + 2*T**5*Y*(-1/Q - bits/Q**2 - bits**2/Q**3 - bits**3/Q**4) + 2*T**5*(Q**4 + Q**3 + Q**2 + Q) + 2*T**5*(bits**3*e + bits**2*e + bits*e + e) + 2*T**5*v[0, 0] + T**3*b_r[0, 0] + T**2*b_d[0, 0] + T*b_m[0, 0] + b_s[0, 0]\n"
     ]
    }
   ],
   "source": [
    "from sympy.solvers.solveset import linear_coeffs\n",
    "d_v, m_v, r_v, s_v = MatrixSymbol('d_v', 1, g_n), MatrixSymbol('m_v', 1, g_n), MatrixSymbol('r_v', 1, g_n), MatrixSymbol('s_v', 1, g_n)\n",
    "ld_v, lm_v, lr_v, ls_v = MatrixSymbol('ld_v', 1, h_n), MatrixSymbol('lm_v', 1, h_n), MatrixSymbol('lr_v', 1, h_n), MatrixSymbol('ls_v', 1, h_n)\n",
    "\n",
    "b_s, b_d, b_m, b_r = MatrixSymbol('b_s', 1, 1), MatrixSymbol('b_d', 1, 1), MatrixSymbol('b_m', 1, 1), MatrixSymbol('b_r', 1, 1)\n",
    "\n",
    "D = b_d*G + d_v*G_v + ld_v*H_v\n",
    "M = b_m*G + m_v*G_v + lm_v*H_v\n",
    "R = b_r*G + r_v*G_v + lr_v*H_v\n",
    "S = b_s*G + s_v*G_v + ls_v*H_v\n",
    "\n",
    "# create w_v\n",
    "T = symbols('T', commutative=True)\n",
    "x = symbols('Y', commutative=True)\n",
    "q = symbols('Q', commutative=True)\n",
    "e = symbols('e', commutative=True)\n",
    "\n",
    "b = symbols('bits', commutative=True)\n",
    "\n",
    "alpha_d = transpose(Matrix([b**0, b**1, b**2, b**3]))\n",
    "alpha_m = transpose(Matrix([1/e, 1/(e + 1), 1/(e + 2), 1/(e + 3)]))\n",
    "\n",
    "# Create the public terms\n",
    "alpha_r2 = transpose(Matrix([e, e, e, e]))\n",
    "one_v = transpose(Matrix([1, 1, 1, 1]))\n",
    "alpha_r = -1*one_v\n",
    "\n",
    "Q_v = transpose(Matrix([q, q**2, q**3, q**4]))\n",
    "Q_inv_v = transpose(Matrix([q**-1, q**-2, q**-3, q**-4]))\n",
    "\n",
    "# Public value\n",
    "P = hadamard_product(Q_inv_v, T**3*alpha_d + x*T**4*alpha_m + x*T**2*alpha_r)*G_v #  + T**3*alpha_d)*G_v\n",
    "P = P + T**2*alpha_r2*G_v\n",
    "\n",
    "# Consider the expression\n",
    "C = S + T*M + T**2*D + T**3*R + 2*T**5*V + P\n",
    "C = expand(C)\n",
    "w_v = linear_coeffs(C, G_v)[0]\n",
    "l_v = linear_coeffs(C, H_v)[0]\n",
    "v_hat = linear_coeffs(C, G)[0]\n",
    "\n",
    "v_hat = v_hat[0] + 2*T**5*one_v.dot(Q_v) # Reciprocal constraint constant\n",
    "v_hat = v_hat + 2*T**5*((alpha_d*transpose(alpha_r2))[0, :].as_explicit()[0]) # Sum value constraint constant\n",
    "v_hat = v_hat + 2*T**5*x*((alpha_r*transpose(hadamard_product(Q_inv_v, alpha_d)))[0, :].as_explicit()[0]) # Range check constraint constant\n",
    "v_hat = v_hat + T**8*x**2*((alpha_m*transpose(hadamard_product(Q_inv_v, alpha_m)))[0, :].as_explicit()[0])\n",
    "\n",
    "print(\"Coeffs of G_v:\", w_v)\n",
    "print(\"Coeffs of H_v:\", l_v)\n",
    "print(\"Coeffs of G:\", v_hat)"
   ]
  },
  {
   "cell_type": "markdown",
   "metadata": {},
   "source": [
    "The challenge $q$ is used to separate the `n` reciprocal constraints and one final sum constraint. The sum constraint occurs in $q^0$ and other constraints start from $q^1$\n",
    "\n",
    "\n",
    "Norm argument:\n",
    "$|\\vec{w}|^2_q + \\langle \\vec{l},\\vec{c} \\rangle = v$ for a given $C = vG + \\langle w, \\vec{G} \\rangle + \\langle l,\\vec{H} \\rangle$"
   ]
  },
  {
   "cell_type": "code",
   "execution_count": 4,
   "metadata": {},
   "outputs": [
    {
     "name": "stdout",
     "output_type": "stream",
     "text": [
      "Value Total Check: 2*bits**3*d_v[0, 3] + 2*bits**2*d_v[0, 2] + 2*bits*d_v[0, 1] + 2*d_v[0, 0] - 2*v[0, 0]\n",
      "Reciprocal Check: 2*e*r_v[0, 0] + 2*d_v[0, 0]*r_v[0, 0] - 2\n",
      "Range Check: -2*r_v[0, 0] - 2*r_v[0, 1] - 2*r_v[0, 2] - 2*r_v[0, 3] + 2*m_v[0, 3]/(e + 3) + 2*m_v[0, 2]/(e + 2) + 2*m_v[0, 1]/(e + 1) + 2*m_v[0, 0]/e\n",
      "Extra terms: ld_v[0, 2] + lm_v[0, 3] + lr_v[0, 1]\n"
     ]
    }
   ],
   "source": [
    "import sympy.vector\n",
    "R = symbols('R', commutative=True)\n",
    "c_v = Matrix([[T], [T**2], [T**3], [T**4], [T**6], [T**7], [0], [0]])\n",
    "c_v = R*c_v\n",
    "w_norm = hadamard_product(Q_v,w_v)*transpose(w_v)\n",
    "expanded_expr = expand(w_norm[0] + (l_v*c_v)[0, :].as_explicit()[0] - v_hat)\n",
    "\n",
    "# print(\"T5 coeff\", expanded_expr.coeff(T, 5)) # Q (.) (d_v . r_v) + r*(ld_v(2) + lm_v(3) + lr_v(1)) - 2v\n",
    "print(\"Value Total Check:\", expanded_expr.coeff(T, 5).coeff(R, 0).coeff(x, 0).coeff(q, 0))\n",
    "print(\"Reciprocal Check:\", expanded_expr.coeff(T, 5).coeff(R, 0).coeff(x, 0).coeff(q, 1))\n",
    "print(\"Range Check:\", collect(expanded_expr.coeff(T, 5).coeff(R, 0).coeff(x, 1), q))\n",
    "print(\"Extra terms:\", expanded_expr.coeff(T, 5).coeff(R, 1))\n"
   ]
  },
  {
   "cell_type": "markdown",
   "metadata": {},
   "source": [
    "Now, let's move onto trying to adjust other terms in different powers of t that we cannot balance. Makes sense to try from last power as terms till $t^8$ are public terms. Forcing `gamma` corresponding to the terms  to be 0."
   ]
  },
  {
   "cell_type": "code",
   "execution_count": 5,
   "metadata": {},
   "outputs": [
    {
     "name": "stdout",
     "output_type": "stream",
     "text": [
      "Last terms(T12): 0\n",
      "Last terms(T12): 2*R*gamma_v[0, 5]\n",
      "Last terms(T11): 2*R*gamma_v[0, 4]\n",
      "Last terms(T10): R*lr_v[0, 5]\n",
      "Last terms(T9): 2*R*gamma_v[0, 3] + R*ld_v[0, 5] + R*lr_v[0, 4]\n",
      "Last terms(T8): 2*R*gamma_v[0, 2] + R*ld_v[0, 4] + R*lm_v[0, 5]\n",
      "Last terms(T1): 2*Q**4*m_v[0, 3]*s_v[0, 3] + 2*Q**3*m_v[0, 2]*s_v[0, 2] + 2*Q**2*m_v[0, 1]*s_v[0, 1] + 2*Q*m_v[0, 0]*s_v[0, 0] + R*ls_v[0, 0] - b_m[0, 0]\n"
     ]
    }
   ],
   "source": [
    "print(\"Last terms(T12):\", expanded_expr.coeff(T, 13))\n",
    "print(\"Last terms(T12):\", expanded_expr.coeff(T, 12))\n",
    "print(\"Last terms(T11):\", expanded_expr.coeff(T, 11))\n",
    "print(\"Last terms(T10):\", expanded_expr.coeff(T, 10))\n",
    "print(\"Last terms(T9):\", expanded_expr.coeff(T, 9))\n",
    "print(\"Last terms(T8):\", expanded_expr.coeff(T, 8).collect(q))\n",
    "print(\"Last terms(T1):\", expanded_expr.coeff(T, 1).collect(q))"
   ]
  },
  {
   "cell_type": "markdown",
   "metadata": {},
   "source": [
    "Now, we have a $t^7$ term that depends on $\\vec{ls}$. It is easy for the prover to set this value so that the overall term becomes zero."
   ]
  },
  {
   "cell_type": "code",
   "execution_count": 6,
   "metadata": {},
   "outputs": [
    {
     "name": "stdout",
     "output_type": "stream",
     "text": [
      "Last terms(T7): 2*Q**4*Y*bits**3/(Q**8*e + 3*Q**8) + 2*Q**4*Y*r_v[0, 3]/(Q**4*e + 3*Q**4) + 2*Q**3*Y*bits**2/(Q**6*e + 2*Q**6) + 2*Q**3*Y*r_v[0, 2]/(Q**3*e + 2*Q**3) + 2*Q**2*Y*bits/(Q**4*e + Q**4) + 2*Q**2*Y*r_v[0, 1]/(Q**2*e + Q**2) + 2*R*gamma_v[0, 1] + R*lm_v[0, 4] + R*lr_v[0, 3] + R*ls_v[0, 5] + 2*Y*r_v[0, 0]/e + 2*Y/(Q*e)\n",
      "Last terms(T7): 2*Y*bits/(Q**4*e + Q**4) + 2*Y*r_v[0, 1]/(Q**2*e + Q**2)\n",
      "Last terms(T7): 2*gamma_v[0, 1] + lm_v[0, 4] + lr_v[0, 3] + ls_v[0, 5]\n"
     ]
    }
   ],
   "source": [
    "print(\"Last terms(T7):\", expanded_expr.coeff(T, 7))\n",
    "print(\"Last terms(T7):\", expanded_expr.coeff(T, 7).coeff(R, 0).coeff(q, 2))\n",
    "print(\"Last terms(T7):\", expanded_expr.coeff(T, 7).coeff(R, 1))"
   ]
  },
  {
   "cell_type": "markdown",
   "metadata": {},
   "source": []
  },
  {
   "cell_type": "markdown",
   "metadata": {},
   "source": [
    "Note: This comes back to the $t^7$ issue that we were discussing with Liam. In this setting, it is impossible to balance the $t^7$ because it depends on secret data and challenge data that is unknown yet. There are two approaches to fix this issue\n",
    "- The most natural way would be to introduce a $t^7$ term in the $\\vec{c}$\n",
    "- The other way(as Liam suggested) would be to modify the $\\vec{c}$ so that the term that generates $t^7$ from $l_r$ can be set \"free\". To do this, we would need to set $t^4$ power with an additional challenge.\n",
    "\n",
    "This second route is promising and probably works, but for understanding, we focus on the first route"
   ]
  },
  {
   "cell_type": "markdown",
   "metadata": {},
   "source": [
    "The logic for the remaining powers of $t^i$, $i \\leq 7$ and $i \\ne 5$ is the same. We have a free term from the blinded $ls$ vector that we can use to balance out the equation. \n",
    "\n",
    "Note that it is crucial that we cannot generate power of $t^5$ from the blinding term as it would disturb the soundness of the protocol and allow to prover to create bad proofs"
   ]
  },
  {
   "cell_type": "code",
   "execution_count": 7,
   "metadata": {},
   "outputs": [
    {
     "name": "stdout",
     "output_type": "stream",
     "text": [
      "Last terms(T0): Q**4*s_v[0, 3]**2 + Q**3*s_v[0, 2]**2 + Q**2*s_v[0, 1]**2 + Q*s_v[0, 0]**2 - b_s[0, 0]\n",
      "temp expr: R*ls_v[0, 0]\n",
      "Last terms(T8): Q**4*Y**2/(Q**8*e**2 + 6*Q**8*e + 9*Q**8) + Q**3*Y**2/(Q**6*e**2 + 4*Q**6*e + 4*Q**6) + Q**2*Y**2/(Q**4*e**2 + 2*Q**4*e + Q**4) + 2*R*gamma_v[0, 2] + R*ld_v[0, 4] + R*lm_v[0, 5] - Y**2/(Q**4*e**2 + 6*Q**4*e + 9*Q**4) - Y**2/(Q**3*e**2 + 4*Q**3*e + 4*Q**3) - Y**2/(Q**2*e**2 + 2*Q**2*e + Q**2)\n"
     ]
    }
   ],
   "source": [
    "print(\"Last terms(T0):\", expanded_expr.coeff(T, 0))\n",
    "temp_expr = expand((l_v*c_v)[0, :].as_explicit()[0])\n",
    "print(\"temp expr:\", temp_expr.coeff(T, 1))\n",
    "# print(\"Last terms(T10):\", expanded_expr.coeff(T, 10))\n",
    "# print(\"Last terms(T9):\", expanded_expr.coeff(T, 9))\n",
    "print(\"Last terms(T8):\", expanded_expr.coeff(T, 8))"
   ]
  },
  {
   "cell_type": "markdown",
   "metadata": {},
   "source": [
    "Write down all constraints on blinding factors "
   ]
  },
  {
   "cell_type": "code",
   "execution_count": 8,
   "metadata": {},
   "outputs": [
    {
     "name": "stdout",
     "output_type": "stream",
     "text": [
      "c0*e*l1 + c0*l0 + c1*e**2*l1 + c1*e*l0 + e**2*n1**2*q**2 + 2*e*n0*n1*q + n0**2\n",
      "c0*e*l1 + c0*l0 + c1*e**2*l1 + c1*e*l0 + e**2*n1**2*q**4 + 2*e*n0*n1*q**3 + n0**2*q**2\n"
     ]
    }
   ],
   "source": [
    "from sympy import *\n",
    "n0, n1 = symbols('n0, n1', commutative=True)\n",
    "c0, c1 = symbols('c0, c1', commutative=True)\n",
    "l0, l1 = symbols('l0, l1', commutative=True)\n",
    "G0, G1 = symbols('G0, G1', commutative=True)\n",
    "H0, H1 = symbols('H0, H1', commutative=True)\n",
    "e, q = symbols('e q', commutative=True)\n",
    "\n",
    "v_init = n0*n0*q*q + n1*n1*q*q*q*q + l0*c0 + l1*c1\n",
    "n_prime = n0/q + e*n1\n",
    "l_prime = l0 + e*l1\n",
    "c_prime = c0 + e*c1\n",
    "\n",
    "x = c0*l1 + c1*l0 + 2*n0*n1*q**3\n",
    "r = c1*l1 + n1*n1*q**4\n",
    "v1_final = v_init + e * x + (e**2 - 1)*r\n",
    "\n",
    "v_final = n_prime * n_prime*q*q + l_prime * c_prime\n",
    "\n",
    "print(expand(v_final))\n",
    "print(expand(v1_final))\n"
   ]
  },
  {
   "cell_type": "code",
   "execution_count": 9,
   "metadata": {},
   "outputs": [
    {
     "name": "stdout",
     "output_type": "stream",
     "text": [
      "e1**2*n1**2*q**2 + e1**2*n3**2*q**4 + 2*e1*n0*n1*q**1.5 + 2*e1*n2*n3*q**3.5 + n0**2*q + n2**2*q**3\n",
      "e1**2*n1**2*q**2 + e1**2*n3**2*q**4 + 2*e1*n0*n1*q**1.5 + 2*e1*n2*n3*q**3.5 + n0**2*q**1.0 + n2**2*q**3.0\n",
      "-n0**2*q**1.0 + n0**2*q + n2**2*q**3 - n2**2*q**3.0\n"
     ]
    }
   ],
   "source": [
    "from sympy import *\n",
    "n0, n1, n2, n3 = symbols('n0 n1 n2 n3', commutative=True)\n",
    "G0, G1, G2, G3 = symbols('G0 G1 G2 G3', commutative=True)\n",
    "e1, e2, q = symbols('e1, e2, q', commutative=True)\n",
    "\n",
    "# v_init = n0*n0*q + n1*n1*q*q + n2*n2*q*q*q + n3*n3*q*q*q*q\n",
    "# n_prime1 = n0*q**(-1/2) + e1*n2\n",
    "# n_prime2 = n1*q**(-1/2) + e1*n3\n",
    "# n_final = n_prime1 * q**(-1) + n_prime2 * e2\n",
    "# print(n_final)\n",
    "\n",
    "# X1 = 2*(n0*n2 + n1*n3)*q**(3/2)\n",
    "# R1 = (n2*n2 + n3*n3)*q**2\n",
    "# X2 = 2*(n_prime1*n_prime2)*q**3\n",
    "# R2 = (n_prime2*n_prime2)*q**4\n",
    "# v1_final = v_init + e1 * X1 + (e1**2 - 1)*R1 + e2 * X2 + (e2**2 - 1)*R2\n",
    "\n",
    "# v_final = n_final * n_final*q**4\n",
    "\n",
    "# print(simplify(v_final))\n",
    "# print(simplify(v1_final))\n",
    "\n",
    "v_init = n0*n0*q + n1*n1*q*q + n2*n2*q*q*q + n3*n3*q*q*q*q\n",
    "n_prime1 = n0*q**(-1/2) + e1*n1\n",
    "n_prime2 = n2*q**(-1/2) + e1*n3\n",
    "n_final = n_prime1*q**(-1) + n_prime2 * e2\n",
    "# print(n_final)\n",
    "\n",
    "X1 = 2*(n0*n1*q**(3/2) + n2*n3*q**(7/2))\n",
    "R1 = (n1*n1*q**2 + n3*n3*q**4)\n",
    "\n",
    "v_int1 = v_init + e1 * X1 + (e1**2 - 1)*R1\n",
    "v_int2 = n_prime1*n_prime1*q**2 + n_prime2*n_prime2*q**4\n",
    "\n",
    "print(expand(v_int1))\n",
    "print(expand(v_int2))\n",
    "print(expand(v_int1) - expand(v_int2))\n",
    "\n",
    "# X2 = 2*(n_prime1*n_prime2)*q**3\n",
    "# R2 = (n_prime2*n_prime2)*q**4\n",
    "# v1_final = v_init + e1 * X1 + (e1**2 - 1)*R1 + e2 * X2 + (e2**2 - 1)*R2\n",
    "\n",
    "# v_final = n_final * n_final * q**4\n",
    "\n",
    "# print(expand(v_final).coeff(e1))\n",
    "# print(expand(v1_final).coeff(e1))\n",
    "\n",
    "# expand(v_final) == expand(v1_final)"
   ]
  },
  {
   "cell_type": "code",
   "execution_count": 10,
   "metadata": {},
   "outputs": [
    {
     "name": "stdout",
     "output_type": "stream",
     "text": [
      "-x1 - x2 + (-y1 + y2)**2/(-x1 + x2)**2\n",
      "-y1 + (-y1 + y2)*(2*x1 + x2 - (-y1 + y2)**2/(-x1 + x2)**2)/(-x1 + x2)\n"
     ]
    }
   ],
   "source": [
    "from sympy import *\n",
    "x1, x2, y1, y2, a1, a2, b1, b2 = symbols('x1 x2 y1 y2 a1 a2 b1 b2', commutative=True)\n",
    "xr, yr, lambdar = symbols('xr yr lambdar', commutative=True)\n",
    "xb1, xb2, yb1, yb2 = symbols('xb1 xb2 yb1 yb2', commutative=True)\n",
    "xb1 = x1 + a1\n",
    "xb2 = x2 + a2\n",
    "yb1 = y1 + b1\n",
    "yb2 = y2 + b2\n",
    "\n",
    "lambdar = (y2 - y1)/(x2 - x1)\n",
    "xr = lambdar**2 - x1 - x2\n",
    "yr = lambdar*(x1 - xr) - y1\n",
    "print(xr)\n",
    "print(yr)"
   ]
  },
  {
   "cell_type": "code",
   "execution_count": 11,
   "metadata": {},
   "outputs": [
    {
     "name": "stdout",
     "output_type": "stream",
     "text": [
      "alpha_m**2*t**8 + 2*alpha_m*r*t**7 + 2*m*s*t + s**2 + t**6*(2*alpha_m*d + r**2) + t**5*(2*alpha_m*m + 2*d*r) + t**4*(2*alpha_m*s + d**2 + 2*m*r) + t**3*(2*d*m + 2*r*s) + t**2*(2*d*s + m**2)\n"
     ]
    }
   ],
   "source": [
    "from sympy import *\n",
    "s, m, d, r, alpha_m, t = symbols('s m d r alpha_m t', commutative=True)\n",
    "w = s + m*t + d*t**2 + r*t**3 + alpha_m*t**4\n",
    "print(expand(w*w).collect(t))"
   ]
  },
  {
   "cell_type": "code",
   "execution_count": 12,
   "metadata": {},
   "outputs": [
    {
     "name": "stdout",
     "output_type": "stream",
     "text": [
      "T**8*(ld4 + lm5) + T**7*lm4 + T**5*(ld2 + lm3) + T**4*lm2 + T**3*lm1 + T**2*lm0\n"
     ]
    }
   ],
   "source": [
    "lm0, lm1, lm2, lm3, lm4, lm5 = symbols('lm0 lm1 lm2 lm3 lm4 lm5', commutative=True)\n",
    "ld2, ld4 = symbols('ld2 ld4', commutative=True)\n",
    "T = symbols('T', commutative=True)\n",
    "expr = lm0*T**2 + lm1*T**3 + lm2*T**4 + lm3*T**5 + lm4*T**7 + lm5*T**8\n",
    "expr = expr + ld2*T**5 + ld4*T**8\n",
    "print(expand(expr).collect(T))"
   ]
  },
  {
   "cell_type": "code",
   "execution_count": null,
   "metadata": {},
   "outputs": [],
   "source": []
  }
 ],
 "metadata": {
  "kernelspec": {
   "display_name": "Python 3.10.4 64-bit",
   "language": "python",
   "name": "python3"
  },
  "language_info": {
   "codemirror_mode": {
    "name": "ipython",
    "version": 3
   },
   "file_extension": ".py",
   "mimetype": "text/x-python",
   "name": "python",
   "nbconvert_exporter": "python",
   "pygments_lexer": "ipython3",
   "version": "3.10.6"
  },
  "orig_nbformat": 4,
  "vscode": {
   "interpreter": {
    "hash": "31f2aee4e71d21fbe5cf8b01ff0e069b9275f58929596ceb00d14d90e3e16cd6"
   }
  }
 },
 "nbformat": 4,
 "nbformat_minor": 2
}
