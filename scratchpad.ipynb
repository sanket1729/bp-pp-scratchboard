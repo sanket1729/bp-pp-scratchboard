{
 "cells": [
  {
   "cell_type": "markdown",
   "metadata": {},
   "source": [
    "Declare some basic symbols:\n",
    "A_v denotes a variable A that is a vector\n",
    "Capital letter denote Group points\n",
    "Small letters denote group scalars\n",
    "\n",
    "polynomial terms are also used in `X`, `T`, but they would be clear from context"
   ]
  },
  {
   "cell_type": "code",
   "execution_count": 202,
   "metadata": {},
   "outputs": [
    {
     "name": "stdout",
     "output_type": "stream",
     "text": [
      "gamma_v*H_v + v*G\n"
     ]
    }
   ],
   "source": [
    "from sympy import *\n",
    "v, G = MatrixSymbol('v', 1, 1), MatrixSymbol('G', 1, 1)\n",
    "h_n = 5\n",
    "g_n = 4\n",
    "gamma_v = MatrixSymbol('gamma_v', 1, h_n)\n",
    "G_v = MatrixSymbol('G_v', g_n, 1)\n",
    "H_v = MatrixSymbol('H_v', h_n, 1)\n",
    "# T value commitment\n",
    "# gamma_v scalar is multiplies to H_0, the first term of H_v. Others are 0\n",
    "V = v*G + gamma_v*H_v\n",
    "print(V)"
   ]
  },
  {
   "cell_type": "markdown",
   "metadata": {},
   "source": [
    "Define\n",
    "    - d_v(vector of digits of v),\n",
    "    - m_v(vector of multiplicities of digits of v)\n",
    "    - r_v(vector of reciprocals of v)\n",
    "    - s(vector of blinding factors)\n",
    "\n",
    "We will first attempt at dealing with the last verification equation in terms of T"
   ]
  },
  {
   "cell_type": "code",
   "execution_count": 203,
   "metadata": {},
   "outputs": [
    {
     "name": "stdout",
     "output_type": "stream",
     "text": [
      "Coeffs of G_v: T**3*r_v + T**2*d_v + T*m_v + s_v\n",
      "Coeffs of H_v: T**5*gamma_v + T**3*lr_v + T**2*ld_v + T*lm_v + ls_v\n",
      "Coeffs of G: T**5*v\n"
     ]
    }
   ],
   "source": [
    "from sympy.solvers.solveset import linear_coeffs\n",
    "d_v, m_v, r_v, s_v = MatrixSymbol('d_v', 1, g_n), MatrixSymbol('m_v', 1, g_n), MatrixSymbol('r_v', 1, g_n), MatrixSymbol('s_v', 1, g_n)\n",
    "ld_v, lm_v, lr_v, ls_v = MatrixSymbol('ld_v', 1, h_n), MatrixSymbol('lm_v', 1, h_n), MatrixSymbol('lr_v', 1, h_n), MatrixSymbol('ls_v', 1, h_n)\n",
    "D = d_v*G_v + ld_v*H_v\n",
    "M = m_v*G_v + lm_v*H_v\n",
    "R = r_v*G_v + lr_v*H_v\n",
    "S = s_v*G_v + ls_v*H_v\n",
    "\n",
    "# create w_v\n",
    "T = symbols('T', commutative=True)\n",
    "\n",
    "# Consider the expression\n",
    "C = S + T*M + T**2*D + T**3*R + T**5*V\n",
    "C = expand(C)\n",
    "w_v = linear_coeffs(C, G_v)[0]\n",
    "l_v = linear_coeffs(C, H_v)[0]\n",
    "v_hat = linear_coeffs(C, G)[0]\n",
    "\n",
    "print(\"Coeffs of G_v:\", w_v)\n",
    "print(\"Coeffs of H_v:\", l_v)\n",
    "print(\"Coeffs of G:\", v_hat)"
   ]
  },
  {
   "cell_type": "markdown",
   "metadata": {},
   "source": [
    "Norm argument:\n",
    "$|\\vec{w}|^2_q + \\langle \\vec{l},\\vec{c} \\rangle = v$ for a given $C = vG + \\langle w, \\vec{G} \\rangle + \\langle l,\\vec{H} \\rangle$"
   ]
  },
  {
   "cell_type": "code",
   "execution_count": 213,
   "metadata": {},
   "outputs": [
    {
     "name": "stdout",
     "output_type": "stream",
     "text": [
      "(2*T**5)*v + (T**3*r_v + T**2*d_v + T*m_v + s_v)*(T**3*r_v.T + T**2*d_v.T + T*m_v.T + s_v.T) + (T**5*gamma_v + T**3*lr_v + T**2*ld_v + T*lm_v + ls_v)*Matrix([\n",
      "[   1],\n",
      "[   T],\n",
      "[T**2],\n",
      "[T**3],\n",
      "[T**4]])\n",
      "2*d_v[0, 0]*r_v[0, 0] + 2*d_v[0, 1]*r_v[0, 1] + 2*d_v[0, 2]*r_v[0, 2] + 2*d_v[0, 3]*r_v[0, 3] + gamma_v[0, 0] + ld_v[0, 3] + lm_v[0, 4] + lr_v[0, 2] - 2*v[0, 0]\n"
     ]
    }
   ],
   "source": [
    "import sympy.vector\n",
    "c_v = Matrix([[1], [T], [T**2], [T**3], [T**4]])\n",
    "\n",
    "# There should be a better way to do this. Wait response from stack exchange\n",
    "manual_dot = l_v[0]*c_v[0]\n",
    "for i in range(1, len(c_v)):\n",
    "    manual_dot += l_v[i]*c_v[i]\n",
    "\n",
    "expr = w_v*transpose(w_v) + l_v*c_v + 2*T**5*v\n",
    "expanded_expr = expand((w_v*transpose(w_v))[0] + manual_dot - 2*T**5*v[0])\n",
    "\n",
    "# print(expr)\n",
    "\n",
    "print(expanded_expr.coeff(T, 5))\n",
    "\n",
    "\n"
   ]
  },
  {
   "cell_type": "markdown",
   "metadata": {},
   "source": [
    "We see that the output for coefficient for `T**5` is\n",
    "```\n",
    "2*d_v[0, 0]*r_v[0, 0] + 2*d_v[0, 1]*r_v[0, 1] + 2*d_v[0, 2]*r_v[0, 2] + 2*d_v[0, 3]*r_v[0, 3] + gamma_v[0, 0] + ld_v[0, 3] + lm_v[0, 4] + lr_v[0, 2] - 2*v[0, 0]\n",
    "```\n",
    "<!-- Rearranging it, we get: $2(\\vec{d} \\dot \\vec{r} - v)$\n",
    "+ gamma_v[0, 0] + ld_v[0, 3] + lm_v[0, 4] + lr_v[0, 2] -->"
   ]
  },
  {
   "cell_type": "markdown",
   "metadata": {},
   "source": []
  }
 ],
 "metadata": {
  "kernelspec": {
   "display_name": "Python 3.10.4 64-bit",
   "language": "python",
   "name": "python3"
  },
  "language_info": {
   "codemirror_mode": {
    "name": "ipython",
    "version": 3
   },
   "file_extension": ".py",
   "mimetype": "text/x-python",
   "name": "python",
   "nbconvert_exporter": "python",
   "pygments_lexer": "ipython3",
   "version": "3.10.4"
  },
  "orig_nbformat": 4,
  "vscode": {
   "interpreter": {
    "hash": "31f2aee4e71d21fbe5cf8b01ff0e069b9275f58929596ceb00d14d90e3e16cd6"
   }
  }
 },
 "nbformat": 4,
 "nbformat_minor": 2
}
